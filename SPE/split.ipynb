{
 "cells": [
  {
   "cell_type": "code",
   "execution_count": 25,
   "metadata": {
    "collapsed": true
   },
   "outputs": [
    {
     "name": "stdout",
     "output_type": "stream",
     "text": [
      "['C', 'C', '[N+]', '(', 'C', ')', '(', 'C', ')', 'C', 'c', '1', 'c', 'c', 'c', 'c', 'c', '1', 'Br']\n"
     ]
    }
   ],
   "source": [
    "from SmilesPE.pretokenizer import atomwise_tokenizer\n",
    "\n",
    "smi = 'CC[N+](C)(C)Cc1ccccc1Br'\n",
    "toks = atomwise_tokenizer(smi)\n",
    "print(toks)"
   ]
  },
  {
   "cell_type": "markdown",
   "source": [],
   "metadata": {
    "collapsed": false
   }
  },
  {
   "cell_type": "code",
   "execution_count": 26,
   "outputs": [
    {
     "name": "stdout",
     "output_type": "stream",
     "text": [
      "['CC[N+](', 'C[N+](C', '[N+](C)', '(C)(', 'C)(C', ')(C)', '(C)C', 'C)Cc', ')Cc1', 'Cc1c', 'c1cc', '1ccc', 'cccc', 'cccc', 'ccc1', 'cc1Br']\n"
     ]
    }
   ],
   "source": [
    "from SmilesPE.pretokenizer import kmer_tokenizer\n",
    "\n",
    "smi = 'CC[N+](C)(C)Cc1ccccc1Br'\n",
    "toks = kmer_tokenizer(smi, ngram=4)\n",
    "print(toks)"
   ],
   "metadata": {
    "collapsed": false
   }
  },
  {
   "cell_type": "code",
   "execution_count": 27,
   "outputs": [
    {
     "name": "stdout",
     "output_type": "stream",
     "text": [
      "SELFIES string: [C][C][N+1][Branch1][C][C][Branch1][C][C][C][C][=C][C][=C][C][=C][Ring1][=Branch1][Br]\n",
      "['[C]', '[C]', '[N+1]', '[Branch1]', '[C]', '[C]', '[Branch1]', '[C]', '[C]', '[C]', '[C]', '[=C]', '[C]', '[=C]', '[C]', '[=C]', '[Ring1]', '[=Branch1]', '[Br]']\n"
     ]
    }
   ],
   "source": [
    "import selfies\n",
    "smi = 'CC[N+](C)(C)Cc1ccccc1Br'\n",
    "sel = selfies.encoder(smi)\n",
    "print(f'SELFIES string: {sel}')\n",
    "\n",
    "toks = atomwise_tokenizer(sel)\n",
    "print(toks)\n"
   ],
   "metadata": {
    "collapsed": false
   }
  },
  {
   "cell_type": "code",
   "execution_count": 28,
   "outputs": [
    {
     "name": "stdout",
     "output_type": "stream",
     "text": [
      "['[C][C][N+1][Branch1]', '[C][N+1][Branch1][C]', '[N+1][Branch1][C][C]', '[Branch1][C][C][Branch1]', '[C][C][Branch1][C]', '[C][Branch1][C][C]', '[Branch1][C][C][C]', '[C][C][C][C]', '[C][C][C][=C]', '[C][C][=C][C]', '[C][=C][C][=C]', '[=C][C][=C][C]', '[C][=C][C][=C]', '[=C][C][=C][Ring1]', '[C][=C][Ring1][=Branch1]', '[=C][Ring1][=Branch1][Br]']\n"
     ]
    }
   ],
   "source": [
    "toks = kmer_tokenizer(sel, ngram=4)\n",
    "print(toks)"
   ],
   "metadata": {
    "collapsed": false
   }
  },
  {
   "cell_type": "code",
   "execution_count": 29,
   "outputs": [
    {
     "name": "stdout",
     "output_type": "stream",
     "text": [
      "DeepSMILES string: CC[N+]C)C)Ccccccc6Br\n"
     ]
    }
   ],
   "source": [
    "import deepsmiles\n",
    "converter = deepsmiles.Converter(rings=True, branches=True)\n",
    "smi = 'CC[N+](C)(C)Cc1ccccc1Br'\n",
    "deepsmi = converter.encode(smi)\n",
    "print(f'DeepSMILES string: {deepsmi}')"
   ],
   "metadata": {
    "collapsed": false
   }
  },
  {
   "cell_type": "code",
   "execution_count": 30,
   "outputs": [
    {
     "name": "stdout",
     "output_type": "stream",
     "text": [
      "['C', 'C', '[N+]', 'C', ')', 'C', ')', 'C', 'c', 'c', 'c', 'c', 'c', 'c', '6', 'Br']\n"
     ]
    }
   ],
   "source": [
    "toks = atomwise_tokenizer(deepsmi)\n",
    "print(toks)"
   ],
   "metadata": {
    "collapsed": false
   }
  },
  {
   "cell_type": "code",
   "execution_count": 31,
   "outputs": [
    {
     "name": "stdout",
     "output_type": "stream",
     "text": [
      "['CC[N+]C', 'C[N+]C)', '[N+]C)C', 'C)C)', ')C)C', 'C)Cc', ')Ccc', 'Cccc', 'cccc', 'cccc', 'cccc', 'ccc6', 'cc6Br']\n"
     ]
    }
   ],
   "source": [
    "toks = kmer_tokenizer(deepsmi, ngram=4)\n",
    "print(toks)"
   ],
   "metadata": {
    "collapsed": false
   }
  },
  {
   "cell_type": "code",
   "execution_count": 32,
   "outputs": [
    {
     "data": {
      "text/plain": "'CC [N+](C) (C)C c1ccccc1 Br'"
     },
     "execution_count": 32,
     "metadata": {},
     "output_type": "execute_result"
    }
   ],
   "source": [
    "import codecs\n",
    "from SmilesPE.tokenizer import *\n",
    "\n",
    "spe_vob= codecs.open('SPE_ChEMBL.txt')\n",
    "spe = SPE_Tokenizer(spe_vob)\n",
    "\n",
    "smi = 'CC[N+](C)(C)Cc1ccccc1Br'\n",
    "spe.tokenize(smi)"
   ],
   "metadata": {
    "collapsed": false
   }
  }
 ],
 "metadata": {
  "kernelspec": {
   "display_name": "Python 3",
   "language": "python",
   "name": "python3"
  },
  "language_info": {
   "codemirror_mode": {
    "name": "ipython",
    "version": 2
   },
   "file_extension": ".py",
   "mimetype": "text/x-python",
   "name": "python",
   "nbconvert_exporter": "python",
   "pygments_lexer": "ipython2",
   "version": "2.7.6"
  }
 },
 "nbformat": 4,
 "nbformat_minor": 0
}
