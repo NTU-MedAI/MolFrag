{
 "cells": [
  {
   "cell_type": "markdown",
   "metadata": {},
   "source": [
    "## Train a SPE2Vec Model"
   ]
  },
  {
   "cell_type": "markdown",
   "metadata": {},
   "source": [
    "### 1. Prepare a large corpus by augmenting SMILES"
   ]
  },
  {
   "cell_type": "code",
   "execution_count": 1,
   "metadata": {},
   "outputs": [],
   "source": [
    "from SmilesPE.learner import corpus_augment"
   ]
  },
  {
   "cell_type": "code",
   "execution_count": 2,
   "metadata": {},
   "outputs": [
    {
     "data": {
      "text/html": [],
      "text/plain": [
       "<IPython.core.display.HTML object>"
      ]
     },
     "metadata": {},
     "output_type": "display_data"
    }
   ],
   "source": [
    "infile = '../data/clean_chembl25.smi'\n",
    "outdir = '../data/aug_chembl/'\n",
    "\n",
    "corpus_augment(infile, outdir, cycles = 10)"
   ]
  },
  {
   "cell_type": "markdown",
   "metadata": {},
   "source": [
    "### 2. Train with skip-gram algorithm"
   ]
  },
  {
   "cell_type": "code",
   "execution_count": 1,
   "metadata": {},
   "outputs": [],
   "source": [
    "import codecs\n",
    "from SmilesPE.tokenizer import *\n",
    "from SmilesPE.spe2vec import *"
   ]
  },
  {
   "cell_type": "markdown",
   "metadata": {},
   "source": [
    "Load the pre-trained SPE vocab and set up a `SPE_Tokenizer`."
   ]
  },
  {
   "cell_type": "code",
   "execution_count": 2,
   "metadata": {},
   "outputs": [],
   "source": [
    "spe_vob= codecs.open('../../SPE_ChEMBL.txt')\n",
    "spe = SPE_Tokenizer(spe_vob)"
   ]
  },
  {
   "cell_type": "code",
   "execution_count": 5,
   "metadata": {},
   "outputs": [],
   "source": [
    "indir = '../data/aug_chembl/'\n",
    "corpus = Corpus(indir, tokenizer=spe, isdir=True, dropout=0.2)"
   ]
  },
  {
   "cell_type": "code",
   "execution_count": 6,
   "metadata": {},
   "outputs": [
    {
     "name": "stdout",
     "output_type": "stream",
     "text": [
      "CPU times: user 13h 21min 43s, sys: 43.4 s, total: 13h 22min 26s\n",
      "Wall time: 11h 53min 20s\n"
     ]
    }
   ],
   "source": [
    "%%time\n",
    "model = learn_spe2vec(corpus=corpus, n_jobs=4)"
   ]
  },
  {
   "cell_type": "code",
   "execution_count": 8,
   "metadata": {},
   "outputs": [
    {
     "data": {
      "text/plain": [
       "3114"
      ]
     },
     "execution_count": 8,
     "metadata": {},
     "output_type": "execute_result"
    }
   ],
   "source": [
    "len(model.wv.vocab)"
   ]
  },
  {
   "cell_type": "markdown",
   "metadata": {},
   "source": [
    "save the model"
   ]
  },
  {
   "cell_type": "code",
   "execution_count": 10,
   "metadata": {},
   "outputs": [],
   "source": [
    "model.save('../results/spe_model.bin')"
   ]
  },
  {
   "cell_type": "markdown",
   "metadata": {},
   "source": [
    "## Usage of a Trained SPE2Vec Model\n"
   ]
  },
  {
   "cell_type": "code",
   "execution_count": 1,
   "metadata": {},
   "outputs": [],
   "source": [
    "from SmilesPE.spe2vec import *"
   ]
  },
  {
   "cell_type": "markdown",
   "metadata": {},
   "source": [
    "### 1. Load a Trained Model\n",
    "This will return a [genism word2vec model](https://radimrehurek.com/gensim/models/word2vec.html)."
   ]
  },
  {
   "cell_type": "code",
   "execution_count": 5,
   "metadata": {},
   "outputs": [],
   "source": [
    "model = load_spe2vec('../results/spe_model.bin')"
   ]
  },
  {
   "cell_type": "code",
   "execution_count": 6,
   "metadata": {},
   "outputs": [
    {
     "data": {
      "text/plain": [
       "3114"
      ]
     },
     "execution_count": 6,
     "metadata": {},
     "output_type": "execute_result"
    }
   ],
   "source": [
    "len(model.wv.vocab)"
   ]
  },
  {
   "cell_type": "code",
   "execution_count": 4,
   "metadata": {},
   "outputs": [
    {
     "name": "stdout",
     "output_type": "stream",
     "text": [
      "Word2Vec(vocab=3114, size=100, alpha=0.025)\n"
     ]
    }
   ],
   "source": [
    "print(reloaded_model)"
   ]
  },
  {
   "cell_type": "markdown",
   "metadata": {},
   "source": [
    "### 2. Similarity Search"
   ]
  },
  {
   "cell_type": "markdown",
   "metadata": {},
   "source": [
    "Find the *n* most simlair tokens."
   ]
  },
  {
   "cell_type": "code",
   "execution_count": 32,
   "metadata": {},
   "outputs": [
    {
     "data": {
      "text/plain": [
       "[('I)', 0.7128984928131104),\n",
       " ('[N+](=O)[O-]', 0.7083392143249512),\n",
       " ('Br', 0.6726223230361938),\n",
       " ('=[N+]=[N-]', 0.6512905359268188),\n",
       " ('C3CCCCC3', 0.632835865020752)]"
      ]
     },
     "execution_count": 32,
     "metadata": {},
     "output_type": "execute_result"
    }
   ],
   "source": [
    "new_model.wv.most_similar(positive = ['I'], topn=5)"
   ]
  },
  {
   "cell_type": "code",
   "execution_count": 25,
   "metadata": {},
   "outputs": [
    {
     "data": {
      "text/plain": [
       "[('[N+](=O)[O-]', 0.7984017133712769),\n",
       " ('c3ccc(Br', 0.6949862241744995),\n",
       " ('I', 0.6726224422454834),\n",
       " ('C#N', 0.647026538848877),\n",
       " ('c3ccc([N+](=O)[O-]', 0.6429217457771301)]"
      ]
     },
     "execution_count": 25,
     "metadata": {},
     "output_type": "execute_result"
    }
   ],
   "source": [
    "new_model.wv.most_similar(positive = ['Br'], topn=5)"
   ]
  },
  {
   "cell_type": "code",
   "execution_count": 26,
   "metadata": {},
   "outputs": [
    {
     "data": {
      "text/plain": [
       "[('F', 0.6898730993270874),\n",
       " ('[N+]([O-])=O', 0.6884483098983765),\n",
       " ('C(F)(F)F', 0.675315797328949),\n",
       " ('O=[N+]([O-])', 0.6138204336166382),\n",
       " ('c1(Cl)cc(', 0.5590237379074097)]"
      ]
     },
     "execution_count": 26,
     "metadata": {},
     "output_type": "execute_result"
    }
   ],
   "source": [
    "new_model.wv.most_similar(positive = ['Cl'], topn=5)"
   ]
  },
  {
   "cell_type": "code",
   "execution_count": 27,
   "metadata": {},
   "outputs": [
    {
     "data": {
      "text/plain": [
       "[('(F)F', 0.7689766883850098),\n",
       " ('C(F)(F)F', 0.7498051524162292),\n",
       " ('Cl', 0.6898730993270874),\n",
       " ('FC(', 0.669197142124176),\n",
       " ('FC(F)(', 0.6604156494140625)]"
      ]
     },
     "execution_count": 27,
     "metadata": {},
     "output_type": "execute_result"
    }
   ],
   "source": [
    "new_model.wv.most_similar(positive = ['F'], topn=5)"
   ]
  },
  {
   "cell_type": "code",
   "execution_count": 36,
   "metadata": {},
   "outputs": [
    {
     "data": {
      "text/plain": [
       "[('Br', 0.7984017133712769),\n",
       " ('I', 0.708339273929596),\n",
       " ('C#N', 0.6947668790817261),\n",
       " ('N(CC)CC', 0.6504974365234375),\n",
       " ('c3ccc([N+](=O)[O-]', 0.6387115716934204),\n",
       " ('[N+]([O-])=O', 0.6123145818710327),\n",
       " ('[N+](=O)[O-])cc2', 0.5939745903015137),\n",
       " ('NC(=N)N', 0.5908252000808716),\n",
       " ('[N+]([O-])=O)', 0.5907192230224609),\n",
       " ('C(=N)N', 0.5786335468292236)]"
      ]
     },
     "execution_count": 36,
     "metadata": {},
     "output_type": "execute_result"
    }
   ],
   "source": [
    "new_model.wv.most_similar(positive = ['[N+](=O)[O-]'], topn=10)"
   ]
  },
  {
   "cell_type": "code",
   "execution_count": 29,
   "metadata": {},
   "outputs": [
    {
     "data": {
      "text/plain": [
       "[('cccn', 0.7426245212554932),\n",
       " ('cc', 0.6368259191513062),\n",
       " ('ncc', 0.6253657937049866),\n",
       " ('c4cccc', 0.618654191493988),\n",
       " ('cn', 0.601131796836853)]"
      ]
     },
     "execution_count": 29,
     "metadata": {},
     "output_type": "execute_result"
    }
   ],
   "source": [
    "new_model.wv.most_similar(positive = ['cccc'], topn=5)"
   ]
  },
  {
   "cell_type": "code",
   "execution_count": 37,
   "metadata": {},
   "outputs": [
    {
     "data": {
      "text/plain": [
       "[('c1cc(Br)ccc1', 0.8210796117782593),\n",
       " ('c1ccc(C(F)(F)F)cc1', 0.8167715072631836),\n",
       " ('c1ccc(C)cc1', 0.8143419027328491),\n",
       " ('c1ncccc1', 0.8109526634216309),\n",
       " ('c1cc(Cl)ccc1', 0.8099758625030518),\n",
       " ('c1ccc(Br)cc1', 0.8057501316070557),\n",
       " ('c1cc(OC)ccc1', 0.797452449798584),\n",
       " ('COc1ccccc1', 0.7923589944839478),\n",
       " ('c1ccc([N+](=O)[O-])cc1', 0.7881063222885132),\n",
       " ('c1cc(C)ccc1', 0.7868707180023193)]"
      ]
     },
     "execution_count": 37,
     "metadata": {},
     "output_type": "execute_result"
    }
   ],
   "source": [
    "new_model.wv.most_similar(positive = ['c1ccccc1'], topn=10)"
   ]
  },
  {
   "cell_type": "markdown",
   "metadata": {},
   "source": [
    "Compare similarity of two tokens"
   ]
  },
  {
   "cell_type": "code",
   "execution_count": 68,
   "metadata": {},
   "outputs": [
    {
     "name": "stdout",
     "output_type": "stream",
     "text": [
      "0.6898731\n",
      "0.387633\n",
      "0.28637922\n",
      "0.27690318\n",
      "0.3910834\n",
      "0.18097402\n",
      "0.26682103\n",
      "0.41482514\n"
     ]
    }
   ],
   "source": [
    "ref = 'F'\n",
    "for i in ['Cl', 'Br', 'I', 'c', 'C', 'B', '[nH]', 'O']:\n",
    "    print(new_model.wv.similarity(ref, i))"
   ]
  },
  {
   "cell_type": "markdown",
   "metadata": {},
   "source": [
    "### 3. Get the embedding of one token"
   ]
  },
  {
   "cell_type": "code",
   "execution_count": 39,
   "metadata": {},
   "outputs": [
    {
     "data": {
      "text/plain": [
       "array([-2.02950224e-01,  1.40340686e-01,  2.67382432e-02,  9.74031091e-02,\n",
       "       -1.72517717e-01,  8.01303983e-02, -7.36229196e-02, -9.51444656e-02,\n",
       "        3.72148484e-01,  1.81130946e-01,  1.74484134e-01, -1.29301652e-01,\n",
       "       -1.03604697e-01, -2.50630349e-01,  4.05520827e-01, -2.43114457e-01,\n",
       "       -2.12318584e-01,  1.80523582e-02, -1.68795168e-01, -9.79098603e-02,\n",
       "        7.37059772e-01, -1.00865168e-02,  3.67026001e-01, -5.12824394e-02,\n",
       "       -5.35637774e-02,  7.80568644e-03, -4.06715780e-01,  1.34660244e-01,\n",
       "        7.20059797e-02, -2.08876193e-01, -1.00592591e-01,  9.60482061e-02,\n",
       "       -2.87714094e-01, -3.32500666e-01, -7.18628839e-02, -2.87026674e-01,\n",
       "       -1.61783621e-01, -4.23521474e-02,  1.38721481e-01,  1.18507959e-01,\n",
       "       -1.22052059e-01,  4.58160996e-01, -1.06491186e-01, -8.75373706e-02,\n",
       "       -1.00945957e-01, -9.78194326e-02, -1.70962840e-01, -7.79090226e-02,\n",
       "        1.30518824e-01, -4.17784601e-01,  1.55221280e-02, -2.45539263e-01,\n",
       "       -2.69203156e-01, -4.91197050e-01, -2.96125770e-01,  4.95558456e-02,\n",
       "        2.02171758e-01, -2.08486952e-02,  1.11753680e-01, -2.19787493e-01,\n",
       "        8.67594033e-02,  1.35289162e-01, -2.45470226e-01,  9.63769853e-02,\n",
       "        3.55482250e-01, -5.12443066e-01, -2.84075797e-01, -1.55221820e-01,\n",
       "        5.48201621e-01, -4.52058613e-01,  3.87241513e-01,  1.58400357e-01,\n",
       "       -3.09546709e-01, -8.23730826e-02,  8.94564539e-02,  1.70166790e-01,\n",
       "        3.83394212e-02,  7.79561698e-02,  1.92218885e-01, -2.24415556e-01,\n",
       "        1.81946293e-01,  1.45321786e-01, -8.67245272e-02, -1.71326876e-01,\n",
       "        4.72679436e-02,  6.64546043e-02,  4.71588194e-01,  4.90657687e-01,\n",
       "        9.30584818e-02, -2.62536593e-02,  2.47501358e-01,  3.53196040e-02,\n",
       "       -5.44035360e-02,  2.17035249e-01,  1.04817919e-01, -4.58425283e-02,\n",
       "       -1.58783898e-01, -2.32295177e-04,  8.71988460e-02,  4.19131443e-02],\n",
       "      dtype=float32)"
      ]
     },
     "execution_count": 39,
     "metadata": {},
     "output_type": "execute_result"
    }
   ],
   "source": [
    "new_model.wv['Cl']"
   ]
  },
  {
   "cell_type": "markdown",
   "metadata": {},
   "source": [
    "### 4. `class SPE2Vec()`\n",
    "`SPE2Vec` takes two input: `spe2vec model path` and `tokenizer`\n",
    "\n",
    "three methods:\n",
    "- tokenize: return the toeknized SMILES as a list\n",
    "- Generate a vector for a SMILES. The vector is construc in four modes: ['average', 'sum', 'avg_pool', 'sum_pool']. The Unknown token will be skipped.\n",
    "- spe2vec: Generate a list of vectors (np.array). Each vector is spe vector of each token. The unknown token will be represented by the mean of all token vectors from the model if `skip_unknown` is set to False.\n",
    "        \n",
    "        "
   ]
  },
  {
   "cell_type": "code",
   "execution_count": 8,
   "metadata": {},
   "outputs": [],
   "source": [
    "import codecs\n",
    "from SmilesPE.tokenizer import *\n",
    "spe_vob= codecs.open('../../SPE_ChEMBL.txt')\n",
    "spe = SPE_Tokenizer(spe_vob)"
   ]
  },
  {
   "cell_type": "code",
   "execution_count": 10,
   "metadata": {},
   "outputs": [],
   "source": [
    "spe2vec = SPE2Vec('../results/spe_model.bin', spe)"
   ]
  },
  {
   "cell_type": "code",
   "execution_count": 12,
   "metadata": {},
   "outputs": [],
   "source": [
    "from rdkit import Chem\n",
    "from rdkit.Chem import PandasTools\n",
    "from rdkit.Chem import Draw\n",
    "from rdkit.Chem.Draw import IPythonConsole"
   ]
  },
  {
   "cell_type": "code",
   "execution_count": 11,
   "metadata": {},
   "outputs": [],
   "source": [
    "smi = 'CC(=O)NCCC1=CNc2c1cc(OC)cc2CC(=O)NCCc1c[nH]c2ccc(OC)cc12'"
   ]
  },
  {
   "cell_type": "code",
   "execution_count": 13,
   "metadata": {},
   "outputs": [
    {
     "data": {
      "image/png": "[encoded data removed]",
      "text/plain": [
       "<rdkit.Chem.rdchem.Mol at 0x7f0e023b5b70>"
      ]
     },
     "execution_count": 13,
     "metadata": {},
     "output_type": "execute_result"
    }
   ],
   "source": [
    "mol = Chem.MolFromSmiles(smi)\n",
    "mol"
   ]
  },
  {
   "cell_type": "code",
   "execution_count": 15,
   "metadata": {},
   "outputs": [
    {
     "data": {
      "text/plain": [
       "'CC(=O)N CCC1 = CN c2 c1cc(OC) cc2 CC(=O)N CC c1c[nH] c2ccc(OC) cc12'"
      ]
     },
     "execution_count": 15,
     "metadata": {},
     "output_type": "execute_result"
    }
   ],
   "source": [
    "toks = spe2vec.tokenize(smi)\n",
    "toks"
   ]
  },
  {
   "cell_type": "code",
   "execution_count": 18,
   "metadata": {},
   "outputs": [
    {
     "data": {
      "text/plain": [
       "(100,)"
      ]
     },
     "execution_count": 18,
     "metadata": {},
     "output_type": "execute_result"
    }
   ],
   "source": [
    "smivec = spe2vec.smiles2vec(smi, mode='average')\n",
    "smivec.shape"
   ]
  },
  {
   "cell_type": "code",
   "execution_count": 19,
   "metadata": {},
   "outputs": [
    {
     "data": {
      "text/plain": [
       "(300,)"
      ]
     },
     "execution_count": 19,
     "metadata": {},
     "output_type": "execute_result"
    }
   ],
   "source": [
    "smivec = spe2vec.smiles2vec(smi, mode='avg_pool')\n",
    "smivec.shape"
   ]
  },
  {
   "cell_type": "code",
   "execution_count": 22,
   "metadata": {},
   "outputs": [
    {
     "data": {
      "text/plain": [
       "(12, (100,))"
      ]
     },
     "execution_count": 22,
     "metadata": {},
     "output_type": "execute_result"
    }
   ],
   "source": [
    "smivec = spe2vec.spe2vec(smi)\n",
    "len(smivec), smivec[0].shape"
   ]
  }
 ],
 "metadata": {
  "kernelspec": {
   "display_name": "Python 3",
   "language": "python",
   "name": "python3"
  },
  "language_info": {
   "codemirror_mode": {
    "name": "ipython",
    "version": 3
   },
   "file_extension": ".py",
   "mimetype": "text/x-python",
   "name": "python",
   "nbconvert_exporter": "python",
   "pygments_lexer": "ipython3",
   "version": "3.6.7"
  }
 },
 "nbformat": 4,
 "nbformat_minor": 4
}
